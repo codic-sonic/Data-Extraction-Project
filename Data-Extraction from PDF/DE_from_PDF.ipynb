{
  "nbformat": 4,
  "nbformat_minor": 0,
  "metadata": {
    "colab": {
      "provenance": [],
      "authorship_tag": "ABX9TyM36WNwnEsYJejBmYhcbucW",
      "include_colab_link": true
    },
    "kernelspec": {
      "name": "python3",
      "display_name": "Python 3"
    },
    "language_info": {
      "name": "python"
    }
  },
  "cells": [
    {
      "cell_type": "markdown",
      "metadata": {
        "id": "view-in-github",
        "colab_type": "text"
      },
      "source": [
        "<a href=\"https://colab.research.google.com/github/codic-sonic/Data-Extraction-Project/blob/main/DE_from_PDF.ipynb\" target=\"_parent\"><img src=\"https://colab.research.google.com/assets/colab-badge.svg\" alt=\"Open In Colab\"/></a>"
      ]
    },
    {
      "cell_type": "markdown",
      "source": [
        "**Data Extraction from PDF file**"
      ],
      "metadata": {
        "id": "UbOl1g2rf0pj"
      }
    },
    {
      "cell_type": "code",
      "source": [
        "pip install PyPDF2"
      ],
      "metadata": {
        "colab": {
          "base_uri": "https://localhost:8080/"
        },
        "id": "6dfZALfIgAuw",
        "outputId": "7ccf9067-0f6a-48e3-9086-b04b8e71f3b4"
      },
      "execution_count": 1,
      "outputs": [
        {
          "output_type": "stream",
          "name": "stdout",
          "text": [
            "Looking in indexes: https://pypi.org/simple, https://us-python.pkg.dev/colab-wheels/public/simple/\n",
            "Collecting PyPDF2\n",
            "  Downloading pypdf2-2.12.1-py3-none-any.whl (222 kB)\n",
            "\u001b[K     |████████████████████████████████| 222 kB 4.2 MB/s \n",
            "\u001b[?25hRequirement already satisfied: typing_extensions>=3.10.0.0 in /usr/local/lib/python3.8/dist-packages (from PyPDF2) (4.4.0)\n",
            "Installing collected packages: PyPDF2\n",
            "Successfully installed PyPDF2-2.12.1\n"
          ]
        }
      ]
    },
    {
      "cell_type": "code",
      "source": [
        "pip install urllib3"
      ],
      "metadata": {
        "colab": {
          "base_uri": "https://localhost:8080/"
        },
        "id": "3u6bRN4TgxEJ",
        "outputId": "f6524a31-7d8e-4510-ee3d-6dada50d9221"
      },
      "execution_count": 2,
      "outputs": [
        {
          "output_type": "stream",
          "name": "stdout",
          "text": [
            "Looking in indexes: https://pypi.org/simple, https://us-python.pkg.dev/colab-wheels/public/simple/\n",
            "Requirement already satisfied: urllib3 in /usr/local/lib/python3.8/dist-packages (1.24.3)\n"
          ]
        }
      ]
    },
    {
      "cell_type": "code",
      "source": [],
      "metadata": {
        "id": "WcYwimPehS9V"
      },
      "execution_count": null,
      "outputs": []
    },
    {
      "cell_type": "code",
      "source": [
        "import PyPDF2 as p\n",
        "\n",
        "file=open(\"SAMPLE.pdf\",\"rb\")\n",
        "pd=p.PdfFileReader(file)\n",
        "\n",
        "x=pd.getPage(0)\n",
        "y=pd.getPage(1)\n",
        "\n",
        "print(x.extractText())\n",
        "print(y.extractText())"
      ],
      "metadata": {
        "colab": {
          "base_uri": "https://localhost:8080/"
        },
        "id": "HEicUCULhS-t",
        "outputId": "3790ead6-41b3-44cf-faf5-534aa0320e8d"
      },
      "execution_count": 9,
      "outputs": [
        {
          "output_type": "stream",
          "name": "stdout",
          "text": [
            "Artificial intelligence  (AI) is intelligence —perceiving, synthesizing, and inferring \n",
            "information —demonstrated by machines , as opposed to intelligence  displa yed by animals  \n",
            "and humans . Example tasks in which this is done include speech reco gnition, computer \n",
            "vision, translation between (natural) languages, as well as other mappings of inputs. The \n",
            "Oxford English Dictionary  of Oxford University Press  defines artificial intelligence as :[1]  \n",
            "the theory and  development of computer systems able to perform tasks that normally require \n",
            "human intelligence, such as visual perception, speech recognition, decision -making, and \n",
            "translation between languages.  \n",
            "AI applications  include advanced web search  engines (e.g., Google ), recommendation \n",
            "systems  (used by YouTube , Amazon  and Netflix ), understanding human speech  (such as Siri \n",
            "and Alexa ), self-driving cars  (e.g., Tesla ), automated decision -making  and competing at the \n",
            "highest level in strategic game  systems (such as chess  and Go).[2] As machines become \n",
            "increasingly capable, tasks considered to require \"intelligence\" are often removed from the \n",
            "definition of AI, a phenomenon known as the AI effect .[3] For instance, optical characte r \n",
            "recognition  is frequently excluded from things considered to be AI ,[4] having become a \n",
            "routine technology .[5]  \n",
            "Artificial intelligence was founded as an academic discipline in 1956, and in the years since \n",
            "has experienced several waves of optimism ,[6][7] followed by disappointment and the loss of \n",
            "funding (known as an \" AI winter \"),[8][9] followed by new approaches, success and renewed \n",
            "funding .[7][10] AI research has tried and discarded many different approaches since its \n",
            "founding, including simulating the brain, modeling human problem solving , formal logic , \n",
            "large databases of knowledge  and imitating animal behavior. In the first decades of the 21st \n",
            "century, highly mathematical -statistical machine learning  has dominated the field, and this \n",
            "technique has proved highly successful, helping to solve many challenging problems \n",
            "throughout industry and academia .[10][11]  \n",
            "The various sub -fields of AI research are centered around particular goals and the use of  \n",
            "particular tools. The traditional goals of AI research include reasoning , knowledge \n",
            "representation , planning , learn ing, natural language processing , perception , and the abilit y to \n",
            "move and manipulate objects .[a] General intelligence  (the ability to solve an arbitrary \n",
            "problem) is among the field's long -term goals .[12] To solve these problems, AI researchers \n",
            "have adapted and integrated a wide range of problem -solving techniques – including search \n",
            "and mathematical optimization, formal lo gic, artificial neural networks , and methods based \n",
            "on statistics , probability  and economics . AI also draws upon computer science , psychology , \n",
            "linguistics , philosophy , and many other fields.  \n",
            " \n",
            " \n",
            " \n",
            " \n",
            " \n",
            " \n",
            " \n",
            "Learning  \n",
            "Main article: Machine learning  \n",
            "Machine learning (ML), a fundamental concept of AI research since the field's i nception,[j] is \n",
            "the study of computer algorithms that improve automatically through experience.[k]  \n",
            "Unsupervised learning  finds patterns in a stream of input. Supervised learning  requires a \n",
            "human to label the input data first, and comes in two main varieties: classification  and \n",
            "numerical regression . Classification is used to determine what category something belongs in \n",
            "– the program sees a number of examples of things from several categories and will learn to \n",
            "classify new inputs. Regression is the attempt to produce a function that describes the \n",
            "relationship between inputs and outputs and predicts how the outputs should ch ange as the \n",
            "inputs change. Both classifiers and regression learners can be viewed as \"function \n",
            "approximators\" trying to learn an unknown (possibly implicit) function; for example, a spam \n",
            "classifier can be viewed as learning a function that maps from the te xt of an email to one of \n",
            "two categories, \"spam\" or \"not spam\".[65] In reinforcement learning  the agent is rewarded for \n",
            "good responses and punished for bad ones. The agent classifies its responses to form a \n",
            "strategy for operating in its problem space.[66] Transfer learning  is when the knowledge \n",
            "gained from one problem is applied to a new problem.[67]  \n",
            "Computational learning theory  can assess learners by computational complexity , by sample \n",
            "complexity  (how much data is required), or by other notions of optimization .[68]  \n",
            " \n",
            " \n",
            " \n",
            " \n",
            " \n"
          ]
        }
      ]
    }
  ]
}
