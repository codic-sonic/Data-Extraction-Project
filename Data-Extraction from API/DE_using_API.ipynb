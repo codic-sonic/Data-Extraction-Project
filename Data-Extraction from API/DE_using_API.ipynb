{
  "nbformat": 4,
  "nbformat_minor": 0,
  "metadata": {
    "colab": {
      "provenance": [],
      "authorship_tag": "ABX9TyMBLWM1WcJo07OIOJ0NT92q",
      "include_colab_link": true
    },
    "kernelspec": {
      "name": "python3",
      "display_name": "Python 3"
    },
    "language_info": {
      "name": "python"
    }
  },
  "cells": [
    {
      "cell_type": "markdown",
      "metadata": {
        "id": "view-in-github",
        "colab_type": "text"
      },
      "source": [
        "<a href=\"https://colab.research.google.com/github/codic-sonic/Data-Extraction-Project/blob/main/DE_using_API.ipynb\" target=\"_parent\"><img src=\"https://colab.research.google.com/assets/colab-badge.svg\" alt=\"Open In Colab\"/></a>"
      ]
    },
    {
      "cell_type": "markdown",
      "source": [
        "**Data Extraction from API**"
      ],
      "metadata": {
        "id": "UbOl1g2rf0pj"
      }
    },
    {
      "cell_type": "code",
      "source": [
        "pip install requests"
      ],
      "metadata": {
        "colab": {
          "base_uri": "https://localhost:8080/"
        },
        "id": "QZmTbDfBo6_E",
        "outputId": "61f8d5c8-79c3-4f7c-e8ec-755624d1985f"
      },
      "execution_count": 10,
      "outputs": [
        {
          "output_type": "stream",
          "name": "stdout",
          "text": [
            "Looking in indexes: https://pypi.org/simple, https://us-python.pkg.dev/colab-wheels/public/simple/\n",
            "Requirement already satisfied: requests in /usr/local/lib/python3.8/dist-packages (2.23.0)\n",
            "Requirement already satisfied: chardet<4,>=3.0.2 in /usr/local/lib/python3.8/dist-packages (from requests) (3.0.4)\n",
            "Requirement already satisfied: certifi>=2017.4.17 in /usr/local/lib/python3.8/dist-packages (from requests) (2022.9.24)\n",
            "Requirement already satisfied: idna<3,>=2.5 in /usr/local/lib/python3.8/dist-packages (from requests) (2.10)\n",
            "Requirement already satisfied: urllib3!=1.25.0,!=1.25.1,<1.26,>=1.21.1 in /usr/local/lib/python3.8/dist-packages (from requests) (1.24.3)\n"
          ]
        }
      ]
    },
    {
      "cell_type": "code",
      "source": [
        "pip install python-secrets"
      ],
      "metadata": {
        "colab": {
          "base_uri": "https://localhost:8080/"
        },
        "id": "qXPsvexRr45k",
        "outputId": "435a17f6-696d-400b-feff-be119c6355ad"
      },
      "execution_count": 1,
      "outputs": [
        {
          "output_type": "stream",
          "name": "stdout",
          "text": [
            "Looking in indexes: https://pypi.org/simple, https://us-python.pkg.dev/colab-wheels/public/simple/\n",
            "Requirement already satisfied: python-secrets in /usr/local/lib/python3.8/dist-packages (22.6.1)\n",
            "Requirement already satisfied: configparser in /usr/local/lib/python3.8/dist-packages (from python-secrets) (5.3.0)\n",
            "Requirement already satisfied: setuptools>=42 in /usr/local/lib/python3.8/dist-packages (from python-secrets) (57.4.0)\n",
            "Requirement already satisfied: jinja2 in /usr/local/lib/python3.8/dist-packages (from python-secrets) (2.11.3)\n",
            "Requirement already satisfied: requests in /usr/local/lib/python3.8/dist-packages (from python-secrets) (2.23.0)\n",
            "Requirement already satisfied: Pygments in /usr/local/lib/python3.8/dist-packages (from python-secrets) (2.6.1)\n",
            "Requirement already satisfied: property-manager in /usr/local/lib/python3.8/dist-packages (from python-secrets) (3.0)\n",
            "Requirement already satisfied: psutil in /usr/local/lib/python3.8/dist-packages (from python-secrets) (5.4.8)\n",
            "Requirement already satisfied: setuptools-scm in /usr/local/lib/python3.8/dist-packages (from python-secrets) (7.0.5)\n",
            "Requirement already satisfied: pyflakes in /usr/local/lib/python3.8/dist-packages (from python-secrets) (3.0.1)\n",
            "Requirement already satisfied: beautifulsoup4 in /usr/local/lib/python3.8/dist-packages (from python-secrets) (4.6.3)\n",
            "Requirement already satisfied: click in /usr/local/lib/python3.8/dist-packages (from python-secrets) (7.1.2)\n",
            "Requirement already satisfied: yamlreader in /usr/local/lib/python3.8/dist-packages (from python-secrets) (3.0.4)\n",
            "Requirement already satisfied: chardet in /usr/local/lib/python3.8/dist-packages (from python-secrets) (3.0.4)\n",
            "Requirement already satisfied: bullet in /usr/local/lib/python3.8/dist-packages (from python-secrets) (2.2.0)\n",
            "Requirement already satisfied: gnupg in /usr/local/lib/python3.8/dist-packages (from python-secrets) (2.3.1)\n",
            "Requirement already satisfied: configobj in /usr/local/lib/python3.8/dist-packages (from python-secrets) (5.0.6)\n",
            "Requirement already satisfied: anytree in /usr/local/lib/python3.8/dist-packages (from python-secrets) (2.8.0)\n",
            "Requirement already satisfied: pexpect in /usr/local/lib/python3.8/dist-packages (from python-secrets) (4.8.0)\n",
            "Requirement already satisfied: xkcdpass in /usr/local/lib/python3.8/dist-packages (from python-secrets) (1.19.3)\n",
            "Requirement already satisfied: ipwhois in /usr/local/lib/python3.8/dist-packages (from python-secrets) (1.2.0)\n",
            "Requirement already satisfied: lxml in /usr/local/lib/python3.8/dist-packages (from python-secrets) (4.9.1)\n",
            "Requirement already satisfied: sphinx in /usr/local/lib/python3.8/dist-packages (from python-secrets) (1.8.6)\n",
            "Requirement already satisfied: cliff in /usr/local/lib/python3.8/dist-packages (from python-secrets) (4.1.0)\n",
            "Requirement already satisfied: tox in /usr/local/lib/python3.8/dist-packages (from python-secrets) (3.27.1)\n",
            "Requirement already satisfied: six>=1.9.0 in /usr/local/lib/python3.8/dist-packages (from anytree->python-secrets) (1.15.0)\n",
            "Requirement already satisfied: PrettyTable>=0.7.2 in /usr/local/lib/python3.8/dist-packages (from cliff->python-secrets) (3.5.0)\n",
            "Requirement already satisfied: stevedore>=2.0.1 in /usr/local/lib/python3.8/dist-packages (from cliff->python-secrets) (4.1.1)\n",
            "Requirement already satisfied: importlib-metadata>=4.4 in /usr/local/lib/python3.8/dist-packages (from cliff->python-secrets) (4.13.0)\n",
            "Requirement already satisfied: cmd2>=1.0.0 in /usr/local/lib/python3.8/dist-packages (from cliff->python-secrets) (2.4.2)\n",
            "Requirement already satisfied: autopage>=0.4.0 in /usr/local/lib/python3.8/dist-packages (from cliff->python-secrets) (0.5.1)\n",
            "Requirement already satisfied: PyYAML>=3.12 in /usr/local/lib/python3.8/dist-packages (from cliff->python-secrets) (6.0)\n",
            "Requirement already satisfied: pyperclip>=1.6 in /usr/local/lib/python3.8/dist-packages (from cmd2>=1.0.0->cliff->python-secrets) (1.8.2)\n",
            "Requirement already satisfied: attrs>=16.3.0 in /usr/local/lib/python3.8/dist-packages (from cmd2>=1.0.0->cliff->python-secrets) (22.1.0)\n",
            "Requirement already satisfied: wcwidth>=0.1.7 in /usr/local/lib/python3.8/dist-packages (from cmd2>=1.0.0->cliff->python-secrets) (0.2.5)\n",
            "Requirement already satisfied: zipp>=0.5 in /usr/local/lib/python3.8/dist-packages (from importlib-metadata>=4.4->cliff->python-secrets) (3.11.0)\n",
            "Requirement already satisfied: pbr!=2.1.0,>=2.0.0 in /usr/local/lib/python3.8/dist-packages (from stevedore>=2.0.1->cliff->python-secrets) (5.11.0)\n",
            "Requirement already satisfied: dnspython<=2.0.0 in /usr/local/lib/python3.8/dist-packages (from ipwhois->python-secrets) (2.0.0)\n",
            "Requirement already satisfied: MarkupSafe>=0.23 in /usr/local/lib/python3.8/dist-packages (from jinja2->python-secrets) (2.0.1)\n",
            "Requirement already satisfied: ptyprocess>=0.5 in /usr/local/lib/python3.8/dist-packages (from pexpect->python-secrets) (0.7.0)\n",
            "Requirement already satisfied: verboselogs>=1.1 in /usr/local/lib/python3.8/dist-packages (from property-manager->python-secrets) (1.7)\n",
            "Requirement already satisfied: humanfriendly>=8.0 in /usr/local/lib/python3.8/dist-packages (from property-manager->python-secrets) (10.0)\n",
            "Requirement already satisfied: certifi>=2017.4.17 in /usr/local/lib/python3.8/dist-packages (from requests->python-secrets) (2022.9.24)\n",
            "Requirement already satisfied: idna<3,>=2.5 in /usr/local/lib/python3.8/dist-packages (from requests->python-secrets) (2.10)\n",
            "Requirement already satisfied: urllib3!=1.25.0,!=1.25.1,<1.26,>=1.21.1 in /usr/local/lib/python3.8/dist-packages (from requests->python-secrets) (1.24.3)\n",
            "Requirement already satisfied: typing-extensions in /usr/local/lib/python3.8/dist-packages (from setuptools-scm->python-secrets) (4.4.0)\n",
            "Requirement already satisfied: packaging>=20.0 in /usr/local/lib/python3.8/dist-packages (from setuptools-scm->python-secrets) (21.3)\n",
            "Requirement already satisfied: tomli>=1.0.0 in /usr/local/lib/python3.8/dist-packages (from setuptools-scm->python-secrets) (2.0.1)\n",
            "Requirement already satisfied: pyparsing!=3.0.5,>=2.0.2 in /usr/local/lib/python3.8/dist-packages (from packaging>=20.0->setuptools-scm->python-secrets) (3.0.9)\n",
            "Requirement already satisfied: babel!=2.0,>=1.3 in /usr/local/lib/python3.8/dist-packages (from sphinx->python-secrets) (2.11.0)\n",
            "Requirement already satisfied: alabaster<0.8,>=0.7 in /usr/local/lib/python3.8/dist-packages (from sphinx->python-secrets) (0.7.12)\n",
            "Requirement already satisfied: docutils<0.18,>=0.11 in /usr/local/lib/python3.8/dist-packages (from sphinx->python-secrets) (0.17.1)\n",
            "Requirement already satisfied: sphinxcontrib-websupport in /usr/local/lib/python3.8/dist-packages (from sphinx->python-secrets) (1.2.4)\n",
            "Requirement already satisfied: snowballstemmer>=1.1 in /usr/local/lib/python3.8/dist-packages (from sphinx->python-secrets) (2.2.0)\n",
            "Requirement already satisfied: imagesize in /usr/local/lib/python3.8/dist-packages (from sphinx->python-secrets) (1.4.1)\n",
            "Requirement already satisfied: pytz>=2015.7 in /usr/local/lib/python3.8/dist-packages (from babel!=2.0,>=1.3->sphinx->python-secrets) (2022.6)\n",
            "Requirement already satisfied: sphinxcontrib-serializinghtml in /usr/local/lib/python3.8/dist-packages (from sphinxcontrib-websupport->sphinx->python-secrets) (1.1.5)\n",
            "Requirement already satisfied: virtualenv!=20.0.0,!=20.0.1,!=20.0.2,!=20.0.3,!=20.0.4,!=20.0.5,!=20.0.6,!=20.0.7,>=16.0.0 in /usr/local/lib/python3.8/dist-packages (from tox->python-secrets) (20.17.1)\n",
            "Requirement already satisfied: pluggy>=0.12.0 in /usr/local/lib/python3.8/dist-packages (from tox->python-secrets) (1.0.0)\n",
            "Requirement already satisfied: py>=1.4.17 in /usr/local/lib/python3.8/dist-packages (from tox->python-secrets) (1.11.0)\n",
            "Requirement already satisfied: filelock>=3.0.0 in /usr/local/lib/python3.8/dist-packages (from tox->python-secrets) (3.8.0)\n",
            "Requirement already satisfied: platformdirs<3,>=2.4 in /usr/local/lib/python3.8/dist-packages (from virtualenv!=20.0.0,!=20.0.1,!=20.0.2,!=20.0.3,!=20.0.4,!=20.0.5,!=20.0.6,!=20.0.7,>=16.0.0->tox->python-secrets) (2.5.4)\n",
            "Requirement already satisfied: distlib<1,>=0.3.6 in /usr/local/lib/python3.8/dist-packages (from virtualenv!=20.0.0,!=20.0.1,!=20.0.2,!=20.0.3,!=20.0.4,!=20.0.5,!=20.0.6,!=20.0.7,>=16.0.0->tox->python-secrets) (0.3.6)\n"
          ]
        }
      ]
    },
    {
      "cell_type": "code",
      "source": [
        "pip install --user python2-secrets"
      ],
      "metadata": {
        "colab": {
          "base_uri": "https://localhost:8080/",
          "height": 191
        },
        "id": "RxUWBNSst2tL",
        "outputId": "7152026f-307a-4925-b7b4-9a2f97b9e258"
      },
      "execution_count": 3,
      "outputs": [
        {
          "output_type": "stream",
          "name": "stdout",
          "text": [
            "Looking in indexes: https://pypi.org/simple, https://us-python.pkg.dev/colab-wheels/public/simple/\n",
            "Collecting python2-secrets\n",
            "  Downloading python2_secrets-1.0.5-py2.py3-none-any.whl (3.3 kB)\n",
            "Installing collected packages: python2-secrets\n",
            "Successfully installed python2-secrets-1.0.5\n"
          ]
        },
        {
          "output_type": "display_data",
          "data": {
            "application/vnd.colab-display-data+json": {
              "pip_warning": {
                "packages": [
                  "secrets"
                ]
              }
            }
          },
          "metadata": {}
        }
      ]
    },
    {
      "cell_type": "code",
      "source": [
        "import requests as r\n",
        "\n",
        "from secrets import key\n",
        "\n",
        "city=srt(input(\"Enter name of the City\"))\n",
        "url=\"http://api.openweathermap.org/data/2.5/weather?q=\"+city+\"&appid=\"+key\n",
        "\n",
        "response=r.get(url)\n",
        "print(response.status_code)\n",
        "\n",
        "print(response.json())\n"
      ],
      "metadata": {
        "colab": {
          "base_uri": "https://localhost:8080/",
          "height": 375
        },
        "id": "EkEXti7xpAU1",
        "outputId": "1681df4b-eda4-439c-afc1-fce9e0883ce6"
      },
      "execution_count": 3,
      "outputs": [
        {
          "output_type": "error",
          "ename": "ImportError",
          "evalue": "ignored",
          "traceback": [
            "\u001b[0;31m---------------------------------------------------------------------------\u001b[0m",
            "\u001b[0;31mImportError\u001b[0m                               Traceback (most recent call last)",
            "\u001b[0;32m<ipython-input-3-d58e07fb29fb>\u001b[0m in \u001b[0;36m<module>\u001b[0;34m\u001b[0m\n\u001b[1;32m      1\u001b[0m \u001b[0;32mimport\u001b[0m \u001b[0mrequests\u001b[0m \u001b[0;32mas\u001b[0m \u001b[0mr\u001b[0m\u001b[0;34m\u001b[0m\u001b[0;34m\u001b[0m\u001b[0m\n\u001b[1;32m      2\u001b[0m \u001b[0;34m\u001b[0m\u001b[0m\n\u001b[0;32m----> 3\u001b[0;31m \u001b[0;32mfrom\u001b[0m \u001b[0msecrets\u001b[0m \u001b[0;32mimport\u001b[0m \u001b[0mkey\u001b[0m\u001b[0;34m\u001b[0m\u001b[0;34m\u001b[0m\u001b[0m\n\u001b[0m\u001b[1;32m      4\u001b[0m \u001b[0;34m\u001b[0m\u001b[0m\n\u001b[1;32m      5\u001b[0m \u001b[0;31m#city=srt(input(\"Enter name of the City\"))\u001b[0m\u001b[0;34m\u001b[0m\u001b[0;34m\u001b[0m\u001b[0;34m\u001b[0m\u001b[0m\n",
            "\u001b[0;31mImportError\u001b[0m: cannot import name 'key' from 'secrets' (/usr/lib/python3.8/secrets.py)",
            "",
            "\u001b[0;31m---------------------------------------------------------------------------\u001b[0;32m\nNOTE: If your import is failing due to a missing package, you can\nmanually install dependencies using either !pip or !apt.\n\nTo view examples of installing some common dependencies, click the\n\"Open Examples\" button below.\n\u001b[0;31m---------------------------------------------------------------------------\u001b[0m\n"
          ],
          "errorDetails": {
            "actions": [
              {
                "action": "open_url",
                "actionText": "Open Examples",
                "url": "/notebooks/snippets/importing_libraries.ipynb"
              }
            ]
          }
        }
      ]
    }
  ]
}
