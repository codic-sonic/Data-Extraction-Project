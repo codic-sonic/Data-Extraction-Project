{
  "nbformat": 4,
  "nbformat_minor": 0,
  "metadata": {
    "colab": {
      "provenance": [],
      "authorship_tag": "ABX9TyNE3f1+J36tN9PbNeAY+7Iz",
      "include_colab_link": true
    },
    "kernelspec": {
      "name": "python3",
      "display_name": "Python 3"
    },
    "language_info": {
      "name": "python"
    }
  },
  "cells": [
    {
      "cell_type": "markdown",
      "metadata": {
        "id": "view-in-github",
        "colab_type": "text"
      },
      "source": [
        "<a href=\"https://colab.research.google.com/github/codic-sonic/Data-Extraction-Project/blob/main/DE_using_Web_Scapping.ipynb\" target=\"_parent\"><img src=\"https://colab.research.google.com/assets/colab-badge.svg\" alt=\"Open In Colab\"/></a>"
      ]
    },
    {
      "cell_type": "markdown",
      "source": [
        "# **Data Extraction using WEB Scrapping into Excel**"
      ],
      "metadata": {
        "id": "UbOl1g2rf0pj"
      }
    },
    {
      "cell_type": "code",
      "source": [
        "#installing libraries\n",
        "!pip install urllib3\n",
        "!pip install beautifulsoup4\n",
        "!pip install lxml\n",
        "!pip install requests\n",
        "!pip install pandas\n",
        "!pip install openpyxl\n"
      ],
      "metadata": {
        "colab": {
          "base_uri": "https://localhost:8080/"
        },
        "id": "67a-Yxu6wMbR",
        "outputId": "3fdef1f4-19e3-4b3b-8f4f-0e6528d1e084"
      },
      "execution_count": 18,
      "outputs": [
        {
          "output_type": "stream",
          "name": "stdout",
          "text": [
            "Looking in indexes: https://pypi.org/simple, https://us-python.pkg.dev/colab-wheels/public/simple/\n",
            "Requirement already satisfied: urllib3 in /usr/local/lib/python3.8/dist-packages (1.24.3)\n",
            "Looking in indexes: https://pypi.org/simple, https://us-python.pkg.dev/colab-wheels/public/simple/\n",
            "Requirement already satisfied: beautifulsoup4 in /usr/local/lib/python3.8/dist-packages (4.6.3)\n",
            "Looking in indexes: https://pypi.org/simple, https://us-python.pkg.dev/colab-wheels/public/simple/\n",
            "Requirement already satisfied: lxml in /usr/local/lib/python3.8/dist-packages (4.9.1)\n",
            "Looking in indexes: https://pypi.org/simple, https://us-python.pkg.dev/colab-wheels/public/simple/\n",
            "Requirement already satisfied: requests in /usr/local/lib/python3.8/dist-packages (2.23.0)\n",
            "Requirement already satisfied: chardet<4,>=3.0.2 in /usr/local/lib/python3.8/dist-packages (from requests) (3.0.4)\n",
            "Requirement already satisfied: certifi>=2017.4.17 in /usr/local/lib/python3.8/dist-packages (from requests) (2022.9.24)\n",
            "Requirement already satisfied: urllib3!=1.25.0,!=1.25.1,<1.26,>=1.21.1 in /usr/local/lib/python3.8/dist-packages (from requests) (1.24.3)\n",
            "Requirement already satisfied: idna<3,>=2.5 in /usr/local/lib/python3.8/dist-packages (from requests) (2.10)\n",
            "Looking in indexes: https://pypi.org/simple, https://us-python.pkg.dev/colab-wheels/public/simple/\n",
            "Requirement already satisfied: pandas in /usr/local/lib/python3.8/dist-packages (1.3.5)\n",
            "\u001b[31mERROR: Could not find a version that satisfies the requirement as (from versions: none)\u001b[0m\n",
            "\u001b[31mERROR: No matching distribution found for as\u001b[0m\n",
            "Looking in indexes: https://pypi.org/simple, https://us-python.pkg.dev/colab-wheels/public/simple/\n",
            "Requirement already satisfied: openpyxl in /usr/local/lib/python3.8/dist-packages (3.0.10)\n",
            "Requirement already satisfied: et-xmlfile in /usr/local/lib/python3.8/dist-packages (from openpyxl) (1.1.0)\n"
          ]
        }
      ]
    },
    {
      "cell_type": "markdown",
      "source": [
        " ***Part 1: Data extraction***"
      ],
      "metadata": {
        "id": "9Nj4YRvwWEuN"
      }
    },
    {
      "cell_type": "code",
      "source": [
        "from bs4 import BeautifulSoup\n",
        "import requests\n",
        "import pandas as pd\n",
        "\n",
        "\n",
        "def get_data(url):\n",
        "  response=requests.get(url)\n",
        "  soup=BeautifulSoup(response.text, \"lxml\")\n",
        "\n",
        "  #\"article\" vo tag h jisme se data extract karna hai\n",
        "  #\"product_pod\" uska class name hai jisme se data extract karna hai\n",
        "  \n",
        "  books=soup.find_all(\"article\", class_=\"product_pod\")\n",
        "\n",
        "  data=[]\n",
        "\n",
        "  for book in books:\n",
        "    item={}\n",
        "    item[\"Title\"]=book.find(\"img\", class_=\"thumbnail\").attrs[\"alt\"]\n",
        "    item[\"Price\"]=book.find(\"p\", class_=\"price_color\").text[1:]\n",
        "    item[\"Availability\"]=book.find(\"p\", class_=\"instock availability\").text[2:]\n",
        "    \n",
        "    data.append(item)\n",
        "\n",
        "  return data\n"
      ],
      "metadata": {
        "id": "bzu_VfoeMFO6"
      },
      "execution_count": 43,
      "outputs": []
    },
    {
      "cell_type": "markdown",
      "source": [
        " ***Part 2: Extracted Data to Excel***"
      ],
      "metadata": {
        "id": "Vxp2TR65cGDW"
      }
    },
    {
      "cell_type": "code",
      "source": [
        "def export_data(data):\n",
        "  df=pd.DataFrame(data)\n",
        "  df.to_excel('books.xlsx')\n",
        "  df.to_csv('books.csv')"
      ],
      "metadata": {
        "id": "XPvONWEackOt"
      },
      "execution_count": 37,
      "outputs": []
    },
    {
      "cell_type": "markdown",
      "source": [
        "***Final Part: Main function***"
      ],
      "metadata": {
        "id": "emN_ZVEIdp_3"
      }
    },
    {
      "cell_type": "code",
      "source": [
        "if __name__ == '__main__':\n",
        "  data=get_data(\"https://books.toscrape.com\")\n",
        "  export_data(data) \n",
        "  print(\"DONE\")"
      ],
      "metadata": {
        "colab": {
          "base_uri": "https://localhost:8080/"
        },
        "id": "drqUPYepd2Zh",
        "outputId": "b1fc9012-5c3d-43f8-df77-d79d30dc96bd"
      },
      "execution_count": 44,
      "outputs": [
        {
          "output_type": "stream",
          "name": "stdout",
          "text": [
            "DONE\n"
          ]
        }
      ]
    }
  ]
}
